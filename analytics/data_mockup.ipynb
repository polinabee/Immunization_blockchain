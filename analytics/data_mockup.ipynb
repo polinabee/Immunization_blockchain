{
 "cells": [
  {
   "cell_type": "code",
   "execution_count": 42,
   "metadata": {},
   "outputs": [],
   "source": [
    "import pandas as pd\n",
    "import numpy as np\n",
    "import seaborn as sns\n",
    "\n",
    "import matplotlib.pyplot as plt\n",
    "\n",
    "import datetime\n",
    "from datetime import date\n",
    "import random"
   ]
  },
  {
   "cell_type": "markdown",
   "metadata": {},
   "source": [
    "## Part 1: Data Generation\n",
    "- Since our DAPP is just a prototype, and the information we would track is not publicly available, we mocked up data\n",
    "- this data does not take into account real-world distributions of immunization type or frequncies\n",
    "    - however, we put half of the values as PCR tests since this is the most common form of immunity proof now and for the foreseeable future\n",
    "- similarly, the travel destinations are dummy variables\n",
    "- the data generation includes business logic for how to determine a travelers validity \n",
    "- this is also a good proxy for how the off-chain databases could be organized\n",
    "- please refer to comments in the code for specific explanations of the logic if unclear from code itself"
   ]
  },
  {
   "cell_type": "code",
   "execution_count": 2,
   "metadata": {},
   "outputs": [],
   "source": [
    "# this function generates n random dates within a range\n",
    "\n",
    "def random_dates(start, end, l=10):\n",
    "\n",
    "    start_u = start.value//10**9\n",
    "    end_u = end.value//10**9\n",
    "\n",
    "    return pd.to_datetime(np.random.randint(start_u, end_u, l), unit='s')"
   ]
  },
  {
   "cell_type": "code",
   "execution_count": 3,
   "metadata": {},
   "outputs": [],
   "source": [
    "\n",
    "#### IMMUNIZATION DATA ####\n",
    "\n",
    "# lookup dict of immunization 3-character code and the full name\n",
    "vax_desc = {'pcr':'PCR Test',\n",
    "               'rec':'Proof Of Recovery',\n",
    "               'jj':'Johnson & Johnson',\n",
    "               'az1':'Astra-Zeneca Dose 1',\n",
    "               'az2':'Astra-Zeneca Dose 2'}\n",
    "\n",
    "# lookup dict of immunization 3-char code and the type of immunization\n",
    "vax_id_type = {'pcr':'test',\n",
    "               'rec':'rec',\n",
    "               'jj':'vax',\n",
    "               'az1':'vax1',\n",
    "               'az2':'vax2'}\n",
    "\n",
    "#  lookup dict of type of immunization and number of days of validity\n",
    "vax_duration = {'test':3,'vax1':0,'vax2':365,'vax':365,'rec':180}\n",
    "\n",
    "# unique list of all immunization 3-char codes\n",
    "immunization_ids = [key for key,value in vax_id_type.items()]"
   ]
  },
  {
   "cell_type": "code",
   "execution_count": 19,
   "metadata": {},
   "outputs": [],
   "source": [
    "### PATIENT DATA GENERATION ###\n",
    "\n",
    "n_pa = 800 # number of total distinct patients in our sample\n",
    "n = 1000 # number of immunization records in our sample\n",
    "\n",
    "patient_id_unique = random.sample(range(10000, 99999), n_pa)\n",
    "patient_ids = random.choices(patient_id_unique, k=n) # patients can get vaxed multiple times, so we resample\n",
    "patient_immunization_ids = ['pcr']*(n//2) +random.choices(immunization_ids, k=(n//2)) # pretending that at least 50% of immunity proofs are PCR tests\n"
   ]
  },
  {
   "cell_type": "code",
   "execution_count": 20,
   "metadata": {},
   "outputs": [],
   "source": [
    "### MEDICAL CENTER DATA GENERATION ####\n",
    "\n",
    "# dummy list of cities, can add to this as records come in. This way we can look up country easily\n",
    "cities = {'San Francisco':'USA',\n",
    "          'New York':'USA',\n",
    "          'Barcelona':'Spain',\n",
    "          'Paris':'France',\n",
    "          'London':'UK',\n",
    "          'Milan':'Italy',\n",
    "          'Dublin':'Ireland'\n",
    "         }\n",
    "\n",
    "med_center_id_unique = random.sample(range(1000, 9999), 30) # 30 total medical centers, assigning unique codes\n",
    "med_center_cities = random.choices([c for c in cities.keys()], k=30) # randomly assigning cities for each center\n",
    "med_center_countries = [cities[c] for c in med_center_cities] # look up country by city name\n",
    "\n",
    "med_cen_ids = random.sample(range(10000, 90000), n) # assigning medical centers from unique list to each vax record"
   ]
  },
  {
   "cell_type": "code",
   "execution_count": 32,
   "metadata": {},
   "outputs": [],
   "source": [
    "### IMMUNIZATION RECORD DATA GENERATION ###\n",
    "\n",
    "# setting start date for when immunizations began. This can be changed. End is current day\n",
    "start = pd.to_datetime('2021-01-01')\n",
    "end = pd.to_datetime(date.today())\n",
    "\n",
    "# randomly assigning a date within that range to every immunization\n",
    "immunization_dates = random_dates(start, end,l=n)\n"
   ]
  },
  {
   "cell_type": "code",
   "execution_count": 33,
   "metadata": {},
   "outputs": [
    {
     "data": {
      "text/html": [
       "<div>\n",
       "<style scoped>\n",
       "    .dataframe tbody tr th:only-of-type {\n",
       "        vertical-align: middle;\n",
       "    }\n",
       "\n",
       "    .dataframe tbody tr th {\n",
       "        vertical-align: top;\n",
       "    }\n",
       "\n",
       "    .dataframe thead th {\n",
       "        text-align: right;\n",
       "    }\n",
       "</style>\n",
       "<table border=\"1\" class=\"dataframe\">\n",
       "  <thead>\n",
       "    <tr style=\"text-align: right;\">\n",
       "      <th></th>\n",
       "      <th>id</th>\n",
       "      <th>name</th>\n",
       "      <th>type</th>\n",
       "      <th>immune_days</th>\n",
       "    </tr>\n",
       "  </thead>\n",
       "  <tbody>\n",
       "    <tr>\n",
       "      <th>0</th>\n",
       "      <td>pcr</td>\n",
       "      <td>PCR Test</td>\n",
       "      <td>test</td>\n",
       "      <td>3</td>\n",
       "    </tr>\n",
       "    <tr>\n",
       "      <th>1</th>\n",
       "      <td>rec</td>\n",
       "      <td>Proof Of Recovery</td>\n",
       "      <td>rec</td>\n",
       "      <td>180</td>\n",
       "    </tr>\n",
       "    <tr>\n",
       "      <th>2</th>\n",
       "      <td>jj</td>\n",
       "      <td>Johnson &amp; Johnson</td>\n",
       "      <td>vax</td>\n",
       "      <td>365</td>\n",
       "    </tr>\n",
       "    <tr>\n",
       "      <th>3</th>\n",
       "      <td>az1</td>\n",
       "      <td>Astra-Zeneca Dose 1</td>\n",
       "      <td>vax1</td>\n",
       "      <td>0</td>\n",
       "    </tr>\n",
       "    <tr>\n",
       "      <th>4</th>\n",
       "      <td>az2</td>\n",
       "      <td>Astra-Zeneca Dose 2</td>\n",
       "      <td>vax2</td>\n",
       "      <td>365</td>\n",
       "    </tr>\n",
       "  </tbody>\n",
       "</table>\n",
       "</div>"
      ],
      "text/plain": [
       "    id                 name  type  immune_days\n",
       "0  pcr             PCR Test  test            3\n",
       "1  rec    Proof Of Recovery   rec          180\n",
       "2   jj    Johnson & Johnson   vax          365\n",
       "3  az1  Astra-Zeneca Dose 1  vax1            0\n",
       "4  az2  Astra-Zeneca Dose 2  vax2          365"
      ]
     },
     "execution_count": 33,
     "metadata": {},
     "output_type": "execute_result"
    }
   ],
   "source": [
    "# Immunization dimension table\n",
    "\n",
    "vax_dims = {'id':immunization_ids,\n",
    "            'name':[vax_desc[vid] for vid in immunization_ids],\n",
    "            'type':[value for key,value in vax_id_type.items()],\n",
    "            'immune_days':[vax_duration[key] for key in vax_id_type.values()]}\n",
    "\n",
    "vax_dim_df = pd.DataFrame.from_dict(vax_dims)\n",
    "vax_dim_df.to_csv('vax_types.csv')\n",
    "vax_dim_df.head()"
   ]
  },
  {
   "cell_type": "code",
   "execution_count": 118,
   "metadata": {},
   "outputs": [
    {
     "data": {
      "text/html": [
       "<div>\n",
       "<style scoped>\n",
       "    .dataframe tbody tr th:only-of-type {\n",
       "        vertical-align: middle;\n",
       "    }\n",
       "\n",
       "    .dataframe tbody tr th {\n",
       "        vertical-align: top;\n",
       "    }\n",
       "\n",
       "    .dataframe thead th {\n",
       "        text-align: right;\n",
       "    }\n",
       "</style>\n",
       "<table border=\"1\" class=\"dataframe\">\n",
       "  <thead>\n",
       "    <tr style=\"text-align: right;\">\n",
       "      <th></th>\n",
       "      <th>patient_id</th>\n",
       "      <th>immunization_id</th>\n",
       "      <th>immunization_date</th>\n",
       "      <th>medical_center_id</th>\n",
       "      <th>immunization_validity_date</th>\n",
       "      <th>immunization_month_year</th>\n",
       "    </tr>\n",
       "  </thead>\n",
       "  <tbody>\n",
       "    <tr>\n",
       "      <th>0</th>\n",
       "      <td>25086</td>\n",
       "      <td>pcr</td>\n",
       "      <td>2021-01-21 14:45:25</td>\n",
       "      <td>74994</td>\n",
       "      <td>2021-01-24 14:45:25</td>\n",
       "      <td>2021-01</td>\n",
       "    </tr>\n",
       "    <tr>\n",
       "      <th>1</th>\n",
       "      <td>23878</td>\n",
       "      <td>pcr</td>\n",
       "      <td>2021-04-11 10:02:54</td>\n",
       "      <td>61962</td>\n",
       "      <td>2021-04-14 10:02:54</td>\n",
       "      <td>2021-04</td>\n",
       "    </tr>\n",
       "    <tr>\n",
       "      <th>2</th>\n",
       "      <td>34402</td>\n",
       "      <td>pcr</td>\n",
       "      <td>2021-01-10 03:44:32</td>\n",
       "      <td>23773</td>\n",
       "      <td>2021-01-13 03:44:32</td>\n",
       "      <td>2021-01</td>\n",
       "    </tr>\n",
       "    <tr>\n",
       "      <th>3</th>\n",
       "      <td>79946</td>\n",
       "      <td>pcr</td>\n",
       "      <td>2021-02-23 17:47:27</td>\n",
       "      <td>43413</td>\n",
       "      <td>2021-02-26 17:47:27</td>\n",
       "      <td>2021-02</td>\n",
       "    </tr>\n",
       "    <tr>\n",
       "      <th>4</th>\n",
       "      <td>99585</td>\n",
       "      <td>pcr</td>\n",
       "      <td>2021-06-10 18:57:18</td>\n",
       "      <td>44736</td>\n",
       "      <td>2021-06-13 18:57:18</td>\n",
       "      <td>2021-06</td>\n",
       "    </tr>\n",
       "  </tbody>\n",
       "</table>\n",
       "</div>"
      ],
      "text/plain": [
       "   patient_id immunization_id   immunization_date  medical_center_id  \\\n",
       "0       25086             pcr 2021-01-21 14:45:25              74994   \n",
       "1       23878             pcr 2021-04-11 10:02:54              61962   \n",
       "2       34402             pcr 2021-01-10 03:44:32              23773   \n",
       "3       79946             pcr 2021-02-23 17:47:27              43413   \n",
       "4       99585             pcr 2021-06-10 18:57:18              44736   \n",
       "\n",
       "  immunization_validity_date immunization_month_year  \n",
       "0        2021-01-24 14:45:25                 2021-01  \n",
       "1        2021-04-14 10:02:54                 2021-04  \n",
       "2        2021-01-13 03:44:32                 2021-01  \n",
       "3        2021-02-26 17:47:27                 2021-02  \n",
       "4        2021-06-13 18:57:18                 2021-06  "
      ]
     },
     "execution_count": 118,
     "metadata": {},
     "output_type": "execute_result"
    }
   ],
   "source": [
    "# immunization record table\n",
    "\n",
    "vax_records = {'patient_id':patient_ids,\n",
    "               'immunization_id': patient_immunization_ids,\n",
    "               'immunization_date': immunization_dates,\n",
    "               'medical_center_id': med_cen_ids}\n",
    "\n",
    "vax_rec_df = pd.DataFrame.from_dict(vax_records)\n",
    "\n",
    "# from the immunization length lookup, we set the data of validity of each immunization record \n",
    "vax_rec_df['immunization_validity_date']=vax_rec_df.apply(\n",
    "    lambda x: x['immunization_date']+ datetime.timedelta(days=vax_duration[vax_id_type[x.immunization_id]]),axis=1)\n",
    "\n",
    "vax_rec_df['immunization_month_year'] = vax_rec_df.immunization_date.dt.to_period('M')\n",
    "\n",
    "vax_rec_df.to_csv('immunizations.csv')\n",
    "vax_rec_df.head()"
   ]
  },
  {
   "cell_type": "code",
   "execution_count": 35,
   "metadata": {},
   "outputs": [
    {
     "data": {
      "text/html": [
       "<div>\n",
       "<style scoped>\n",
       "    .dataframe tbody tr th:only-of-type {\n",
       "        vertical-align: middle;\n",
       "    }\n",
       "\n",
       "    .dataframe tbody tr th {\n",
       "        vertical-align: top;\n",
       "    }\n",
       "\n",
       "    .dataframe thead th {\n",
       "        text-align: right;\n",
       "    }\n",
       "</style>\n",
       "<table border=\"1\" class=\"dataframe\">\n",
       "  <thead>\n",
       "    <tr style=\"text-align: right;\">\n",
       "      <th></th>\n",
       "      <th>med_center_id</th>\n",
       "      <th>name</th>\n",
       "      <th>city</th>\n",
       "      <th>country</th>\n",
       "    </tr>\n",
       "  </thead>\n",
       "  <tbody>\n",
       "    <tr>\n",
       "      <th>0</th>\n",
       "      <td>7673</td>\n",
       "      <td>Dummy Name 7673</td>\n",
       "      <td>Paris</td>\n",
       "      <td>France</td>\n",
       "    </tr>\n",
       "    <tr>\n",
       "      <th>1</th>\n",
       "      <td>6034</td>\n",
       "      <td>Dummy Name 6034</td>\n",
       "      <td>New York</td>\n",
       "      <td>USA</td>\n",
       "    </tr>\n",
       "    <tr>\n",
       "      <th>2</th>\n",
       "      <td>9762</td>\n",
       "      <td>Dummy Name 9762</td>\n",
       "      <td>Paris</td>\n",
       "      <td>France</td>\n",
       "    </tr>\n",
       "    <tr>\n",
       "      <th>3</th>\n",
       "      <td>4932</td>\n",
       "      <td>Dummy Name 4932</td>\n",
       "      <td>Barcelona</td>\n",
       "      <td>Spain</td>\n",
       "    </tr>\n",
       "    <tr>\n",
       "      <th>4</th>\n",
       "      <td>3540</td>\n",
       "      <td>Dummy Name 3540</td>\n",
       "      <td>San Francisco</td>\n",
       "      <td>USA</td>\n",
       "    </tr>\n",
       "  </tbody>\n",
       "</table>\n",
       "</div>"
      ],
      "text/plain": [
       "   med_center_id             name           city country\n",
       "0           7673  Dummy Name 7673          Paris  France\n",
       "1           6034  Dummy Name 6034       New York     USA\n",
       "2           9762  Dummy Name 9762          Paris  France\n",
       "3           4932  Dummy Name 4932      Barcelona   Spain\n",
       "4           3540  Dummy Name 3540  San Francisco     USA"
      ]
     },
     "execution_count": 35,
     "metadata": {},
     "output_type": "execute_result"
    }
   ],
   "source": [
    "\n",
    "med_cen_records = {'med_center_id':med_center_id_unique,\n",
    "                   'name':[f'Dummy Name {i}' for i in med_center_id_unique], # placeholder for actual names\n",
    "                   'city': med_center_cities,\n",
    "                   'country':med_center_countries}\n",
    "med_cen_df = pd.DataFrame.from_dict(med_cen_records)\n",
    "\n",
    "med_cen_df.to_csv('medical.csv')\n",
    "\n",
    "med_cen_df.head()\n"
   ]
  },
  {
   "cell_type": "code",
   "execution_count": 56,
   "metadata": {},
   "outputs": [
    {
     "data": {
      "text/html": [
       "<div>\n",
       "<style scoped>\n",
       "    .dataframe tbody tr th:only-of-type {\n",
       "        vertical-align: middle;\n",
       "    }\n",
       "\n",
       "    .dataframe tbody tr th {\n",
       "        vertical-align: top;\n",
       "    }\n",
       "\n",
       "    .dataframe thead th {\n",
       "        text-align: right;\n",
       "    }\n",
       "</style>\n",
       "<table border=\"1\" class=\"dataframe\">\n",
       "  <thead>\n",
       "    <tr style=\"text-align: right;\">\n",
       "      <th></th>\n",
       "      <th>customer_id</th>\n",
       "      <th>travel_date</th>\n",
       "      <th>from_city</th>\n",
       "      <th>to_city</th>\n",
       "      <th>immunity_end_date</th>\n",
       "      <th>immunity_status</th>\n",
       "      <th>travel_month</th>\n",
       "    </tr>\n",
       "  </thead>\n",
       "  <tbody>\n",
       "    <tr>\n",
       "      <th>0</th>\n",
       "      <td>89439</td>\n",
       "      <td>2021-03-12 11:23:44</td>\n",
       "      <td>London</td>\n",
       "      <td>Milan</td>\n",
       "      <td>2021-03-18 02:37:02</td>\n",
       "      <td>True</td>\n",
       "      <td>2021-03</td>\n",
       "    </tr>\n",
       "    <tr>\n",
       "      <th>1</th>\n",
       "      <td>25086</td>\n",
       "      <td>2021-02-03 04:35:32</td>\n",
       "      <td>Barcelona</td>\n",
       "      <td>San Francisco</td>\n",
       "      <td>2022-01-11 18:03:05</td>\n",
       "      <td>True</td>\n",
       "      <td>2021-02</td>\n",
       "    </tr>\n",
       "    <tr>\n",
       "      <th>2</th>\n",
       "      <td>36039</td>\n",
       "      <td>2021-06-04 10:21:20</td>\n",
       "      <td>Barcelona</td>\n",
       "      <td>Paris</td>\n",
       "      <td>2022-04-17 13:53:45</td>\n",
       "      <td>True</td>\n",
       "      <td>2021-06</td>\n",
       "    </tr>\n",
       "    <tr>\n",
       "      <th>3</th>\n",
       "      <td>35888</td>\n",
       "      <td>2021-04-21 07:57:30</td>\n",
       "      <td>Dublin</td>\n",
       "      <td>Milan</td>\n",
       "      <td>2022-06-06 11:16:38</td>\n",
       "      <td>True</td>\n",
       "      <td>2021-04</td>\n",
       "    </tr>\n",
       "    <tr>\n",
       "      <th>4</th>\n",
       "      <td>29139</td>\n",
       "      <td>2021-03-12 20:53:07</td>\n",
       "      <td>Barcelona</td>\n",
       "      <td>Dublin</td>\n",
       "      <td>2021-02-27 06:22:22</td>\n",
       "      <td>False</td>\n",
       "      <td>2021-03</td>\n",
       "    </tr>\n",
       "  </tbody>\n",
       "</table>\n",
       "</div>"
      ],
      "text/plain": [
       "   customer_id         travel_date  from_city        to_city  \\\n",
       "0        89439 2021-03-12 11:23:44     London          Milan   \n",
       "1        25086 2021-02-03 04:35:32  Barcelona  San Francisco   \n",
       "2        36039 2021-06-04 10:21:20  Barcelona          Paris   \n",
       "3        35888 2021-04-21 07:57:30     Dublin          Milan   \n",
       "4        29139 2021-03-12 20:53:07  Barcelona         Dublin   \n",
       "\n",
       "    immunity_end_date  immunity_status travel_month  \n",
       "0 2021-03-18 02:37:02             True      2021-03  \n",
       "1 2022-01-11 18:03:05             True      2021-02  \n",
       "2 2022-04-17 13:53:45             True      2021-06  \n",
       "3 2022-06-06 11:16:38             True      2021-04  \n",
       "4 2021-02-27 06:22:22            False      2021-03  "
      ]
     },
     "execution_count": 56,
     "metadata": {},
     "output_type": "execute_result"
    }
   ],
   "source": [
    "### TRAVEL DATA GENERATION ###\n",
    "\n",
    "kn = 500 # 500 trips, we can change this \n",
    "\n",
    "# create to:from list from our existing list of cities, omitting where to and from is the same\n",
    "from_to_combos = [[i,j] for j in cities for i in cities if i!=j]\n",
    "\n",
    "# take kn samples from this list of possible routes\n",
    "from_to = random.choices(from_to_combos, k=kn)\n",
    "\n",
    "\n",
    "travel_records = {'customer_id':random.choices(patient_ids, k=kn), # choose from existing list of patients\n",
    "                  'travel_date':random_dates(start, end,l=kn),\n",
    "                  'from_city':[e[0] for e in from_to],\n",
    "                  'to_city':[e[1] for e in from_to]\n",
    "                 }\n",
    "\n",
    "travel_df = pd.DataFrame.from_dict(travel_records)\n",
    "\n",
    "# business logic for checking immunity status: find latest valid immunity date for each traveler\n",
    "# check if that immunity date is before or after the travel date\n",
    "travel_df['immunity_end_date'] = travel_df.apply(\n",
    "    lambda x: vax_rec_df[vax_rec_df.patient_id == x.customer_id].immunization_validity_date.max(),axis=1)\n",
    "travel_df['immunity_status'] = travel_df.apply(lambda x: True if x.immunity_end_date > x.travel_date else False, axis=1)\n",
    "\n",
    "travel_df.to_csv('travel.csv')\n",
    "travel_df['travel_month'] = travel_df.travel_date.dt.to_period('M')\n",
    "travel_df.head()\n"
   ]
  },
  {
   "cell_type": "code",
   "execution_count": 63,
   "metadata": {},
   "outputs": [
    {
     "data": {
      "text/plain": [
       "2021-05-01    25\n",
       "2021-04-01    17\n",
       "2021-03-01    13\n",
       "2021-06-01    13\n",
       "2021-02-01     8\n",
       "2021-01-01     2\n",
       "Name: travel_month, dtype: int64"
      ]
     },
     "execution_count": 63,
     "metadata": {},
     "output_type": "execute_result"
    }
   ],
   "source": [
    "monthly_travel_pass = pd.Series(travel_df[travel_df.immunity_status==True].travel_month.value_counts())\n",
    "monthly_travel_pass.index = monthly_travel_pass.index.to_timestamp()\n",
    "\n",
    "\n",
    "monthly_travel_fail = pd.Series(travel_df[travel_df.immunity_status==False].travel_month.value_counts())\n",
    "monthly_travel_fail.index = monthly_travel_fail.index.to_timestamp()\n",
    "\n",
    "monthly_travel_fail"
   ]
  },
  {
   "cell_type": "markdown",
   "metadata": {},
   "source": [
    "## Part 2: Visualization Prototypes\n",
    "- Here are some examples of graphs that could be implemented in live-streamed dashboards using data that supports the blockchain. \n",
    "- This is just a quick mock-up -- in a production scenario, these databases would be stored in RDBMS format and would contain real-world patterns not simulated here.\n",
    "- for additional charts please refer to the excel-generated images."
   ]
  },
  {
   "cell_type": "code",
   "execution_count": 111,
   "metadata": {},
   "outputs": [
    {
     "data": {
      "text/plain": [
       "<AxesSubplot:xlabel='travel_month', ylabel='count'>"
      ]
     },
     "execution_count": 111,
     "metadata": {},
     "output_type": "execute_result"
    },
    {
     "data": {
      "image/png": "[encoded data removed]",
      "text/plain": [
       "<Figure size 1080x216 with 2 Axes>"
      ]
     },
     "metadata": {
      "needs_background": "light"
     },
     "output_type": "display_data"
    }
   ],
   "source": [
    "fig, (ax1, ax2) = plt.subplots(1, 2,figsize=(15, 3))\n",
    "fig.suptitle('Total Monthly Passengers Passing and Failing the Immunization Checkpoint')\n",
    "\n",
    "ax1.plot(monthly_travel_fail.sort_index(), label = \"Checkpoint Failed\")\n",
    "ax1.plot(monthly_travel_pass.sort_index(),label = \"Checkpoint Passed\")\n",
    "plt.xlabel(\"Year-Month\")\n",
    "plt.ylabel(\"Number of Passengers\")\n",
    "\n",
    "\n",
    "sns.countplot(data=travel_df, x=\"travel_month\", hue=\"immunity_status\",ax=ax2)\n"
   ]
  },
  {
   "cell_type": "code",
   "execution_count": 135,
   "metadata": {},
   "outputs": [
    {
     "data": {
      "image/png": "[encoded data removed]",
      "text/plain": [
       "<Figure size 1080x360 with 1 Axes>"
      ]
     },
     "metadata": {
      "needs_background": "light"
     },
     "output_type": "display_data"
    }
   ],
   "source": [
    "plt.figure(figsize=(15, 5))\n",
    "plt.title('Immunization Types by Month')\n",
    "ax = sns.countplot(hue=\"immunization_id\", x='immunization_month_year',data=vax_rec_df)\n"
   ]
  }
 ],
 "metadata": {
  "kernelspec": {
   "display_name": "Python 3",
   "language": "python",
   "name": "python3"
  },
  "language_info": {
   "codemirror_mode": {
    "name": "ipython",
    "version": 3
   },
   "file_extension": ".py",
   "mimetype": "text/x-python",
   "name": "python",
   "nbconvert_exporter": "python",
   "pygments_lexer": "ipython3",
   "version": "3.8.5"
  }
 },
 "nbformat": 4,
 "nbformat_minor": 1
}
